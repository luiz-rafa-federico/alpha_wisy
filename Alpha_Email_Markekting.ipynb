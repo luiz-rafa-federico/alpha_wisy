{
 "cells": [
  {
   "cell_type": "code",
   "execution_count": null,
   "id": "e17de202",
   "metadata": {},
   "outputs": [],
   "source": [
    "import pandas as pd"
   ]
  },
  {
   "cell_type": "code",
   "execution_count": null,
   "id": "148c3e3f",
   "metadata": {},
   "outputs": [],
   "source": [
    "df = pd.read_csv('people_in.csv')"
   ]
  },
  {
   "cell_type": "code",
   "execution_count": null,
   "id": "b3bdd5d2",
   "metadata": {},
   "outputs": [],
   "source": [
    "df"
   ]
  },
  {
   "cell_type": "code",
   "execution_count": null,
   "id": "91e84813",
   "metadata": {},
   "outputs": [],
   "source": [
    "df.shape"
   ]
  },
  {
   "cell_type": "code",
   "execution_count": null,
   "id": "4670d5df",
   "metadata": {
    "scrolled": true
   },
   "outputs": [],
   "source": [
    "df.info()"
   ]
  },
  {
   "cell_type": "code",
   "execution_count": null,
   "id": "c563f2e8",
   "metadata": {
    "scrolled": false
   },
   "outputs": [],
   "source": [
    "df.head(100)"
   ]
  },
  {
   "cell_type": "code",
   "execution_count": null,
   "id": "92ddf23e",
   "metadata": {},
   "outputs": [],
   "source": [
    "df.head(30)"
   ]
  },
  {
   "cell_type": "code",
   "execution_count": null,
   "id": "9a3aad87",
   "metadata": {},
   "outputs": [],
   "source": [
    "df.head()"
   ]
  },
  {
   "cell_type": "code",
   "execution_count": null,
   "id": "5ccb3df1",
   "metadata": {},
   "outputs": [],
   "source": [
    "df['name']"
   ]
  },
  {
   "cell_type": "code",
   "execution_count": null,
   "id": "327a5b4e",
   "metadata": {},
   "outputs": [],
   "source": [
    "df['NAME']"
   ]
  },
  {
   "cell_type": "code",
   "execution_count": null,
   "id": "64edd3d2",
   "metadata": {},
   "outputs": [],
   "source": [
    "df.NAME"
   ]
  },
  {
   "cell_type": "code",
   "execution_count": null,
   "id": "028a484e",
   "metadata": {},
   "outputs": [],
   "source": [
    "df[['NAME', 'LAST_NAME']]"
   ]
  },
  {
   "cell_type": "code",
   "execution_count": null,
   "id": "a4b781e2",
   "metadata": {},
   "outputs": [],
   "source": [
    "df.iloc[0]"
   ]
  },
  {
   "cell_type": "code",
   "execution_count": null,
   "id": "6dd83776",
   "metadata": {},
   "outputs": [],
   "source": [
    "df.iloc[[0, 1], 3]"
   ]
  },
  {
   "cell_type": "code",
   "execution_count": null,
   "id": "0356cd75",
   "metadata": {},
   "outputs": [],
   "source": [
    "df.loc[0]"
   ]
  },
  {
   "cell_type": "code",
   "execution_count": null,
   "id": "2b72ad05",
   "metadata": {},
   "outputs": [],
   "source": [
    "df"
   ]
  },
  {
   "cell_type": "code",
   "execution_count": null,
   "id": "6bb9e6c9",
   "metadata": {},
   "outputs": [],
   "source": [
    "df['CONNECTIONS'] > 200"
   ]
  },
  {
   "cell_type": "code",
   "execution_count": null,
   "id": "e1c649f0",
   "metadata": {},
   "outputs": [],
   "source": [
    "df['COUNTRY']"
   ]
  },
  {
   "cell_type": "code",
   "execution_count": null,
   "id": "ef6ad3bb",
   "metadata": {},
   "outputs": [],
   "source": [
    "filt = (df['COUNTRY'] == 'Brazil')"
   ]
  },
  {
   "cell_type": "code",
   "execution_count": null,
   "id": "1e9aafcd",
   "metadata": {},
   "outputs": [],
   "source": [
    "df[filt]"
   ]
  },
  {
   "cell_type": "code",
   "execution_count": null,
   "id": "14c34ec7",
   "metadata": {},
   "outputs": [],
   "source": [
    "countries = ['Brazil', 'Colombia', 'Panama']"
   ]
  },
  {
   "cell_type": "code",
   "execution_count": null,
   "id": "72acebf3",
   "metadata": {},
   "outputs": [],
   "source": [
    "filt = df['COUNTRY'].isin(countries)"
   ]
  },
  {
   "cell_type": "code",
   "execution_count": null,
   "id": "61ef33f1",
   "metadata": {},
   "outputs": [],
   "source": [
    "df[filt]"
   ]
  },
  {
   "cell_type": "code",
   "execution_count": null,
   "id": "e81f3611",
   "metadata": {},
   "outputs": [],
   "source": [
    "df"
   ]
  },
  {
   "cell_type": "code",
   "execution_count": 2,
   "id": "13c86071",
   "metadata": {},
   "outputs": [],
   "source": [
    "import pandas as pd"
   ]
  },
  {
   "cell_type": "code",
   "execution_count": 3,
   "id": "b94f92be",
   "metadata": {},
   "outputs": [],
   "source": [
    "df = pd.read_csv('people_in.csv')"
   ]
  },
  {
   "cell_type": "code",
   "execution_count": 4,
   "id": "36ac416d",
   "metadata": {},
   "outputs": [
    {
     "data": {
      "text/html": [
       "<div>\n",
       "<style scoped>\n",
       "    .dataframe tbody tr th:only-of-type {\n",
       "        vertical-align: middle;\n",
       "    }\n",
       "\n",
       "    .dataframe tbody tr th {\n",
       "        vertical-align: top;\n",
       "    }\n",
       "\n",
       "    .dataframe thead th {\n",
       "        text-align: right;\n",
       "    }\n",
       "</style>\n",
       "<table border=\"1\" class=\"dataframe\">\n",
       "  <thead>\n",
       "    <tr style=\"text-align: right;\">\n",
       "      <th></th>\n",
       "      <th>ID</th>\n",
       "      <th>NAME</th>\n",
       "      <th>LAST_NAME</th>\n",
       "      <th>CURRENT_ROLE</th>\n",
       "      <th>COUNTRY</th>\n",
       "      <th>INDUSTRY</th>\n",
       "      <th>RECOMMENDATIONS</th>\n",
       "      <th>CONNECTIONS</th>\n",
       "    </tr>\n",
       "  </thead>\n",
       "  <tbody>\n",
       "    <tr>\n",
       "      <th>0</th>\n",
       "      <td>573435640</td>\n",
       "      <td>jean</td>\n",
       "      <td>harion</td>\n",
       "      <td>vice president</td>\n",
       "      <td>Dominica</td>\n",
       "      <td>Telecommunications</td>\n",
       "      <td>0</td>\n",
       "      <td>0</td>\n",
       "    </tr>\n",
       "    <tr>\n",
       "      <th>1</th>\n",
       "      <td>337983069</td>\n",
       "      <td>meredith</td>\n",
       "      <td>kopit-levien</td>\n",
       "      <td>chief revenue officer</td>\n",
       "      <td>United States</td>\n",
       "      <td>Publishing</td>\n",
       "      <td>0</td>\n",
       "      <td>0</td>\n",
       "    </tr>\n",
       "    <tr>\n",
       "      <th>2</th>\n",
       "      <td>556570894</td>\n",
       "      <td>daniel</td>\n",
       "      <td>roe</td>\n",
       "      <td>vp customer operations and support</td>\n",
       "      <td>United States</td>\n",
       "      <td>Computer Software</td>\n",
       "      <td>0</td>\n",
       "      <td>270</td>\n",
       "    </tr>\n",
       "    <tr>\n",
       "      <th>3</th>\n",
       "      <td>646158956</td>\n",
       "      <td>craig</td>\n",
       "      <td>gulliver</td>\n",
       "      <td>vice president support services</td>\n",
       "      <td>Canada</td>\n",
       "      <td>Computer Software</td>\n",
       "      <td>0</td>\n",
       "      <td>0</td>\n",
       "    </tr>\n",
       "    <tr>\n",
       "      <th>4</th>\n",
       "      <td>345736039</td>\n",
       "      <td>isaac</td>\n",
       "      <td>stringer</td>\n",
       "      <td>vice president</td>\n",
       "      <td>United States</td>\n",
       "      <td>Electronics</td>\n",
       "      <td>0</td>\n",
       "      <td>0</td>\n",
       "    </tr>\n",
       "    <tr>\n",
       "      <th>...</th>\n",
       "      <td>...</td>\n",
       "      <td>...</td>\n",
       "      <td>...</td>\n",
       "      <td>...</td>\n",
       "      <td>...</td>\n",
       "      <td>...</td>\n",
       "      <td>...</td>\n",
       "      <td>...</td>\n",
       "    </tr>\n",
       "    <tr>\n",
       "      <th>2774</th>\n",
       "      <td>643190777</td>\n",
       "      <td>rosemary</td>\n",
       "      <td>jackson</td>\n",
       "      <td>psychiatric nurse practitioner</td>\n",
       "      <td>United States</td>\n",
       "      <td>Business Services</td>\n",
       "      <td>0</td>\n",
       "      <td>0</td>\n",
       "    </tr>\n",
       "    <tr>\n",
       "      <th>2775</th>\n",
       "      <td>643191231</td>\n",
       "      <td>johan</td>\n",
       "      <td>jacobs</td>\n",
       "      <td>senior analyst programmer</td>\n",
       "      <td>South Africa</td>\n",
       "      <td>Logistics and Supply Chain</td>\n",
       "      <td>0</td>\n",
       "      <td>0</td>\n",
       "    </tr>\n",
       "    <tr>\n",
       "      <th>2776</th>\n",
       "      <td>643440426</td>\n",
       "      <td>alicia</td>\n",
       "      <td>clopton</td>\n",
       "      <td>child care eligibility supervisor</td>\n",
       "      <td>United States</td>\n",
       "      <td>Hospitality</td>\n",
       "      <td>0</td>\n",
       "      <td>0</td>\n",
       "    </tr>\n",
       "    <tr>\n",
       "      <th>2777</th>\n",
       "      <td>643380081</td>\n",
       "      <td>maxwell</td>\n",
       "      <td>bowman</td>\n",
       "      <td>freelancer</td>\n",
       "      <td>United States</td>\n",
       "      <td>Business Services</td>\n",
       "      <td>0</td>\n",
       "      <td>0</td>\n",
       "    </tr>\n",
       "    <tr>\n",
       "      <th>2778</th>\n",
       "      <td>643659962</td>\n",
       "      <td>chin</td>\n",
       "      <td>yeo</td>\n",
       "      <td>channel management</td>\n",
       "      <td>Singapore</td>\n",
       "      <td>Wire &amp; Cable</td>\n",
       "      <td>0</td>\n",
       "      <td>0</td>\n",
       "    </tr>\n",
       "  </tbody>\n",
       "</table>\n",
       "<p>2779 rows × 8 columns</p>\n",
       "</div>"
      ],
      "text/plain": [
       "             ID      NAME     LAST_NAME                        CURRENT_ROLE  \\\n",
       "0     573435640      jean        harion                      vice president   \n",
       "1     337983069  meredith  kopit-levien               chief revenue officer   \n",
       "2     556570894    daniel           roe  vp customer operations and support   \n",
       "3     646158956     craig      gulliver     vice president support services   \n",
       "4     345736039     isaac      stringer                      vice president   \n",
       "...         ...       ...           ...                                 ...   \n",
       "2774  643190777  rosemary       jackson      psychiatric nurse practitioner   \n",
       "2775  643191231     johan        jacobs           senior analyst programmer   \n",
       "2776  643440426    alicia       clopton   child care eligibility supervisor   \n",
       "2777  643380081   maxwell        bowman                          freelancer   \n",
       "2778  643659962      chin           yeo                  channel management   \n",
       "\n",
       "            COUNTRY                    INDUSTRY  RECOMMENDATIONS  CONNECTIONS  \n",
       "0          Dominica          Telecommunications                0            0  \n",
       "1     United States                  Publishing                0            0  \n",
       "2     United States           Computer Software                0          270  \n",
       "3            Canada           Computer Software                0            0  \n",
       "4     United States                 Electronics                0            0  \n",
       "...             ...                         ...              ...          ...  \n",
       "2774  United States           Business Services                0            0  \n",
       "2775   South Africa  Logistics and Supply Chain                0            0  \n",
       "2776  United States                 Hospitality                0            0  \n",
       "2777  United States           Business Services                0            0  \n",
       "2778      Singapore                Wire & Cable                0            0  \n",
       "\n",
       "[2779 rows x 8 columns]"
      ]
     },
     "execution_count": 4,
     "metadata": {},
     "output_type": "execute_result"
    }
   ],
   "source": [
    "df"
   ]
  },
  {
   "cell_type": "code",
   "execution_count": 9,
   "id": "65413360",
   "metadata": {},
   "outputs": [],
   "source": [
    "filt = df['CURRENT_ROLE'].str.contains('vice president', na=False)"
   ]
  },
  {
   "cell_type": "code",
   "execution_count": 10,
   "id": "47d3f706",
   "metadata": {},
   "outputs": [
    {
     "data": {
      "text/plain": [
       "0                                     vice president\n",
       "3                    vice president support services\n",
       "4                                     vice president\n",
       "5       vice president de administracion de negocios\n",
       "8                       vice president and treasurer\n",
       "                            ...                     \n",
       "842                                   vice president\n",
       "1089        vice president regional asset management\n",
       "1170                      vice president of services\n",
       "1189                     vice president of marketing\n",
       "1760                                  vice president\n",
       "Name: CURRENT_ROLE, Length: 89, dtype: object"
      ]
     },
     "execution_count": 10,
     "metadata": {},
     "output_type": "execute_result"
    }
   ],
   "source": [
    "df.loc[filt, 'CURRENT_ROLE']"
   ]
  },
  {
   "cell_type": "code",
   "execution_count": 18,
   "id": "84aa78f3",
   "metadata": {},
   "outputs": [],
   "source": [
    "filt = (df['CURRENT_ROLE'].str.contains('president', na=False)) | (df['CURRENT_ROLE'].str.contains('director', na=False))"
   ]
  },
  {
   "cell_type": "code",
   "execution_count": 17,
   "id": "207eb620",
   "metadata": {},
   "outputs": [
    {
     "data": {
      "text/plain": [
       "67     vice president and medical director usaa life ...\n",
       "285                    president and scientific director\n",
       "309    managing director thule s.p.a. - president bu ...\n",
       "Name: CURRENT_ROLE, dtype: object"
      ]
     },
     "execution_count": 17,
     "metadata": {},
     "output_type": "execute_result"
    }
   ],
   "source": [
    "df.loc[filt, 'CURRENT_ROLE']"
   ]
  },
  {
   "cell_type": "code",
   "execution_count": 19,
   "id": "d74fcb36",
   "metadata": {},
   "outputs": [
    {
     "data": {
      "text/plain": [
       "0                                     vice president\n",
       "3                    vice president support services\n",
       "4                                     vice president\n",
       "5       vice president de administracion de negocios\n",
       "7              president and chief executive officer\n",
       "                            ...                     \n",
       "2644        associate director institutional banking\n",
       "2647        director of photography and photographer\n",
       "2648                            director of coaching\n",
       "2657                       director of core services\n",
       "2692                                        director\n",
       "Name: CURRENT_ROLE, Length: 297, dtype: object"
      ]
     },
     "execution_count": 19,
     "metadata": {},
     "output_type": "execute_result"
    }
   ],
   "source": [
    "df.loc[filt, 'CURRENT_ROLE']"
   ]
  },
  {
   "cell_type": "code",
   "execution_count": 22,
   "id": "dea4e019",
   "metadata": {},
   "outputs": [],
   "source": [
    "filt = df['CURRENT_ROLE'].str.extract('(president|director)')"
   ]
  },
  {
   "cell_type": "code",
   "execution_count": null,
   "id": "b3f66c75",
   "metadata": {},
   "outputs": [],
   "source": []
  }
 ],
 "metadata": {
  "kernelspec": {
   "display_name": "Python 3 (ipykernel)",
   "language": "python",
   "name": "python3"
  },
  "language_info": {
   "codemirror_mode": {
    "name": "ipython",
    "version": 3
   },
   "file_extension": ".py",
   "mimetype": "text/x-python",
   "name": "python",
   "nbconvert_exporter": "python",
   "pygments_lexer": "ipython3",
   "version": "3.9.6"
  }
 },
 "nbformat": 4,
 "nbformat_minor": 5
}
